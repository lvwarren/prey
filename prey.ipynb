{
 "cells": [
  {
   "cell_type": "markdown",
   "metadata": {},
   "source": [
    "# Predator Prey Model"
   ]
  },
  {
   "cell_type": "markdown",
   "metadata": {},
   "source": [
    "by Sri Vallabha, Ph.D <br>\n",
    "Indian Institute of Science, Bangalore, India <br>"
   ]
  },
  {
   "cell_type": "markdown",
   "metadata": {},
   "source": [
    "<h3>Code Revisions and Modifications for Interaction</h3>"
   ]
  },
  {
   "cell_type": "markdown",
   "metadata": {},
   "source": [
    "by L. Van Warren <br>\n",
    "University of Arkansas, Little Rock, Arkansas, USA"
   ]
  },
  {
   "cell_type": "markdown",
   "metadata": {},
   "source": [
    "Licensed under CC BY-NC 3.0."
   ]
  },
  {
   "cell_type": "markdown",
   "metadata": {},
   "source": [
    "<pre>\n",
    "# Optional: To change style of notebook\n",
    "# from IPython.core.display import HTML\n",
    "# HTML(open('prey.css', \"r\").read())\n",
    "</pre>"
   ]
  },
  {
   "cell_type": "markdown",
   "metadata": {},
   "source": [
    "Source |\n",
    "[GIT Original Source](https://goo.gl/pnoCA8) |\n",
    "[Markdown Quick Reference](https://goo.gl/yycqtU) |\n",
    "[Markdown Indentation](https://goo.gl/XVKyYe) |\n",
    "[LaTex Font Sizes](https://goo.gl/q9hLnx) |\n",
    "[Lotka-Volterra Equations](https://goo.gl/rfNB4N) |"
   ]
  },
  {
   "cell_type": "markdown",
   "metadata": {},
   "source": [
    "### Prey-Predator System as a pair of first-order, non-linear, differential equations\n",
    "Prey Equation Assumptions\n",
    ">  Prey (x) have unlimited food <br>\n",
    ">   αx   prey population increase growth rate <br>\n",
    ">  βxy prey population decrease growth rate\n",
    "    \n",
    "We write:\n",
    "\n",
    ">$\\Large\\frac{dx}{dt}\\normalsize = \\alpha x - \\beta x y $</indent>\n",
    "\n",
    "Predator Equation Assumptions:\n",
    "> Predators (y) have limited food Prey (x) <br>\n",
    ">   ɣy predator population decrease growth rate <br>\n",
    ">  ẟxy predator population increase growth rate\n",
    "    \n",
    "We write:\n",
    "\n",
    ">$\\Large\\frac{dy}{dt}\\normalsize = \\delta x y -\\gamma y $"
   ]
  },
  {
   "cell_type": "markdown",
   "metadata": {},
   "source": [
    "<h4>Euler forward time stepping scheme:</h4>\n",
    "\n",
    "<b>euler_step(u, f, dt)</b>:\n",
    "returns the solution at next time-step using Euler's method.<br>\n",
    "Inputs\n",
    "> u      : array of floats containing solution at the previous time-step.<br>\n",
    "> f      : function to compute the RHS of the system of equation.<br>\n",
    "> dt     : scalar float time-increment.<br>\n",
    "\n",
    "Outputs\n",
    "> u[n+1] : array of floats approximate solution at the next time step.\n"
   ]
  },
  {
   "cell_type": "markdown",
   "metadata": {},
   "source": [
    "<h4>Lotka-Volterra function:</h4>\n",
    "\n",
    "<b>f(u)</b>:\n",
    "returns rate of change of Prey (x) and Predator (y).<br>\n",
    "Inputs\n",
    "> u : array of floats containing solution at time n.<br>\n",
    "\n",
    "Outputs\n",
    "\n",
    "> $\\Large\\frac{du}{dt}\\normalsize$ : array of floats containing the RHS given u."
   ]
  },
  {
   "cell_type": "code",
   "execution_count": 1,
   "metadata": {},
   "outputs": [],
   "source": [
    "import math                      # for mathematical operations (like math.h)\n",
    "import matplotlib.pyplot as plt  # for plotting\n",
    "import numpy as np               # for numerical operations\n",
    "from ipywidgets import *         # for interactive animation\n",
    "                                 # forces graph appearance in jupyter notebooks\n",
    "%matplotlib inline      "
   ]
  },
  {
   "cell_type": "code",
   "execution_count": 92,
   "metadata": {},
   "outputs": [],
   "source": [
    "plt.rcParams[\"figure.figsize\"] = [16, 10]"
   ]
  },
  {
   "cell_type": "code",
   "execution_count": 93,
   "metadata": {},
   "outputs": [],
   "source": [
    "# Set initial parameters\n",
    "α = 1.0\n",
    "β = 1.2\n",
    "ɣ = 4.0\n",
    "ẟ = 1.0"
   ]
  },
  {
   "cell_type": "code",
   "execution_count": 94,
   "metadata": {},
   "outputs": [],
   "source": [
    "# Time stepping scheme - euler forward\n",
    "def euler_step(u, f, α, β, ɣ, ẟ, dt):\n",
    "    return u + dt * f(u, α, β, ɣ, ẟ)"
   ]
  },
  {
   "cell_type": "code",
   "execution_count": 95,
   "metadata": {},
   "outputs": [],
   "source": [
    "# Lotka-Volterra function\n",
    "def lotka(u, α, β, ɣ, ẟ):\n",
    "    x = u[0]\n",
    "    y = u[1]\n",
    "    return np.array([x*(α - β*y), -y*(ɣ - ẟ*x)])"
   ]
  },
  {
   "cell_type": "code",
   "execution_count": 96,
   "metadata": {},
   "outputs": [],
   "source": [
    "def solve_w_euler(α, β, ɣ, ẟ):\n",
    "    T  = 15.0                           # final time\n",
    "    dt =  0.01                          # set time-increment\n",
    "    x0 = 10.0\n",
    "    y0 =  2.0\n",
    "    t0 =  0.0\n",
    "\n",
    "    N  = int(T/dt) + 1                  # number of time-steps\n",
    "\n",
    "    # set initial conditions\n",
    "    u_euler = np.empty((N, 2))\n",
    "\n",
    "    # initialize the array containing the solution for each time-step\n",
    "    u_euler[0] = np.array([x0, y0])\n",
    "\n",
    "    # use a for loop to call the function rk2_step()\n",
    "    for n in range(N-1):\n",
    "        u_euler[n+1] = euler_step(u_euler[n], lotka, α, β, ɣ, ẟ, dt)\n",
    "    \n",
    "    time = np.linspace(0.0, T,N)\n",
    "    x = u_euler[:,0]\n",
    "    y = u_euler[:,1]\n",
    "    \n",
    "    return x, y, time"
   ]
  },
  {
   "cell_type": "markdown",
   "metadata": {},
   "source": [
    "We will now plot the variation of population for each species with time."
   ]
  },
  {
   "cell_type": "markdown",
   "metadata": {},
   "source": [
    "Source |\n",
    "[Legend Location](https://goo.gl/K86yBa) |\n",
    "[LaTex Font Sizes](https://goo.gl/q9hLnx) |\n",
    "[Lotka-Volterra Equations](https://goo.gl/rfNB4N) |"
   ]
  },
  {
   "cell_type": "code",
   "execution_count": 118,
   "metadata": {},
   "outputs": [],
   "source": [
    "def plot_pp_v_t(foo, x, y, time):\n",
    "    foo.set_xlabel(\"time\", fontsize=14)\n",
    "    foo.set_ylabel(\"Population\", fontsize=14)\n",
    "    foo.set_title(\"Predator-Prey Population\", fontsize=16)\n",
    "    foo.plot(time, x, label = 'prey ')\n",
    "    foo.plot(time, y, label = 'predator')\n",
    "    foo.legend(loc='upper left', fontsize=12)\n",
    "\n",
    "def plot_p_v_p(foo, x, y):\n",
    "    foo.set_xlabel(\"Prey Count\", fontsize=14)\n",
    "    foo.set_ylabel(\"Predator Count\", fontsize=14)\n",
    "    foo.set_title(\"Predator vs Prey Phase plot\", fontsize=16)\n",
    "    foo.plot(x, y, '-->', markevery=5, label = 'phase plot')\n",
    "    \n",
    "def dual_plot(x, y, time):\n",
    "    fig = plt.figure()\n",
    "    fig.suptitle(f'Population and Phase Diagrams', fontsize=16)\n",
    "    plot_pp_v_t(plt.subplot(\"221\"), x, y, time)\n",
    "    plot_p_v_p(plt.subplot(\"222\"), x, y)"
   ]
  },
  {
   "cell_type": "code",
   "execution_count": 119,
   "metadata": {},
   "outputs": [],
   "source": [
    "def solve_and_plot(α, β, ɣ, ẟ):\n",
    "    x, y, time = solve_w_euler(α, β, ɣ, ẟ)\n",
    "    dual_plot(x, y, time)"
   ]
  },
  {
   "cell_type": "markdown",
   "metadata": {},
   "source": [
    "Vary the interactions between species by changing $\\alpha, \\beta, \\gamma, \\delta$ and see what happens to the population evolution as well as phase plots."
   ]
  },
  {
   "cell_type": "code",
   "execution_count": 120,
   "metadata": {},
   "outputs": [
    {
     "data": {
      "application/vnd.jupyter.widget-view+json": {
       "model_id": "7db283b9d8c5421d9632e59ecc5cce72",
       "version_major": 2,
       "version_minor": 0
      },
      "text/plain": [
       "interactive(children=(FloatSlider(value=2.0, description='α', max=4.0), FloatSlider(value=2.801, description='…"
      ]
     },
     "metadata": {},
     "output_type": "display_data"
    }
   ],
   "source": [
    "interact(solve_and_plot, α=(0.0,4.0,0.1), β=(0.001,6.0,0.2), ɣ=(1.0,10,1.0), ẟ=(0.0,5.0,0.2));"
   ]
  },
  {
   "cell_type": "markdown",
   "metadata": {},
   "source": [
    "## Further Work: time stepping method with higher order of accuracy"
   ]
  },
  {
   "cell_type": "markdown",
   "metadata": {},
   "source": [
    "Also, try the same exercise with a fourth order time stepping method called \"Runge-Kutta 4\" whose algorithm is given below."
   ]
  },
  {
   "cell_type": "code",
   "execution_count": 121,
   "metadata": {},
   "outputs": [],
   "source": [
    "def runge(u,f,dt):\n",
    "    # Runge Kutta 4th order method\n",
    "    \"\"\"Returns the solution at the next time-step using Runge Kutta fourth order (RK4) method.\n",
    "    \n",
    "    Parameters\n",
    "    ----------\n",
    "    u : array of float\n",
    "        solution at the previous time-step.\n",
    "    f : function\n",
    "        function to compute the right hand-side of the system of equation.\n",
    "    dt : float\n",
    "        time-increment.\n",
    "    \n",
    "    Returns\n",
    "    -------\n",
    "    u_n_plus_1 : array of float\n",
    "        approximate solution at the next time step.\n",
    "    \"\"\"\n",
    "    #calculate slopes\n",
    "    k1 = f(u)\n",
    "    u1 = u + (dt/2.)*k1\n",
    "    k2 = f(u1)\n",
    "    u2 = u + (dt/2.)*k2\n",
    "    k3 = f(u2)\n",
    "    u3 = u + dt*k3\n",
    "    k4 = f(u3)\n",
    "    return u + (dt/6.)*(k1 + 2.*k2 + 2.*k3 + k4)"
   ]
  },
  {
   "cell_type": "code",
   "execution_count": null,
   "metadata": {},
   "outputs": [],
   "source": []
  }
 ],
 "metadata": {
  "kernelspec": {
   "display_name": "Python 3",
   "language": "python",
   "name": "python3"
  },
  "language_info": {
   "codemirror_mode": {
    "name": "ipython",
    "version": 3
   },
   "file_extension": ".py",
   "mimetype": "text/x-python",
   "name": "python",
   "nbconvert_exporter": "python",
   "pygments_lexer": "ipython3",
   "version": "3.6.8"
  }
 },
 "nbformat": 4,
 "nbformat_minor": 1
}
